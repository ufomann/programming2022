{
 "cells": [
  {
   "cell_type": "markdown",
   "metadata": {},
   "source": [
    "### Task 1"
   ]
  },
  {
   "cell_type": "code",
   "execution_count": 42,
   "metadata": {},
   "outputs": [
    {
     "name": "stdout",
     "output_type": "stream",
     "text": [
      "9\n"
     ]
    }
   ],
   "source": [
    "n = int(input())\n",
    "n = str(n)\n",
    "dec = int(n[len(n) - 2])\n",
    "if dec == 0:\n",
    "    print(-1)\n",
    "else:\n",
    "    print(dec)"
   ]
  },
  {
   "cell_type": "markdown",
   "metadata": {},
   "source": [
    "### Task 2"
   ]
  },
  {
   "cell_type": "code",
   "execution_count": 19,
   "metadata": {},
   "outputs": [
    {
     "name": "stdout",
     "output_type": "stream",
     "text": [
      "True\n"
     ]
    }
   ],
   "source": [
    "def aboba(n):\n",
    "    n = n.lower()\n",
    "    nl = list(n)\n",
    "    nl = list(filter(lambda x : x.isalpha(), nl))\n",
    "    return nl == nl[::-1]\n",
    "n = input()\n",
    "print(aboba(n))"
   ]
  },
  {
   "cell_type": "markdown",
   "metadata": {},
   "source": [
    "### Task 3"
   ]
  },
  {
   "cell_type": "code",
   "execution_count": 76,
   "metadata": {},
   "outputs": [
    {
     "name": "stdout",
     "output_type": "stream",
     "text": [
      "['август', 'июль', 'сентябрь', 'август', 'март', 'сентябрь', 'июль', 'февраль', 'март', 'февраль']\n"
     ]
    }
   ],
   "source": [
    "from random import *\n",
    "\n",
    "dic = {1 : 'январь', 2 : 'февраль', 3 : 'март', 4 : 'апрель', 5 : 'май', 6 : 'июнь',\n",
    "           7 : 'июль', 8 : 'август', 9 : 'сентябрь', 10 : 'октябрь', 11 : 'ноябрь', 12 : 'декабрь'}\n",
    "\n",
    "def fun(a):\n",
    "    if (1 <= a <= 12):\n",
    "        return dic[a]\n",
    "    else:\n",
    "        return a\n",
    "\n",
    "def newGen(gen):\n",
    "    while True:\n",
    "        try:\n",
    "            yield fun(next(gen) % 17)\n",
    "        except StopIteration:\n",
    "            break\n",
    "\n",
    "\n",
    "gen = (randrange(0, 28) for i in range(10))\n",
    "newgen = newGen(gen)\n",
    "print(list(newgen))\n"
   ]
  },
  {
   "cell_type": "markdown",
   "metadata": {},
   "source": [
    "### Task 4"
   ]
  },
  {
   "cell_type": "code",
   "execution_count": 51,
   "metadata": {},
   "outputs": [
    {
     "name": "stdout",
     "output_type": "stream",
     "text": [
      "120120120120102 100000111122222\n"
     ]
    }
   ],
   "source": [
    "def aboba(n):\n",
    "    integ = [0] * 10\n",
    "    n = str(n)\n",
    "    for i in n:\n",
    "        integ[int(i)] += 1\n",
    "    ans = \"\"\n",
    "    for i in range(1, 10):\n",
    "        if integ[i] != 0:\n",
    "            ans += str(i)\n",
    "            integ[i] -= 1\n",
    "            break\n",
    "    for i in range(10):\n",
    "        ans += str(i) * integ[i]\n",
    "    return ans\n",
    "n = int(input())\n",
    "print(n, aboba(n))\n"
   ]
  },
  {
   "cell_type": "markdown",
   "metadata": {},
   "source": [
    "### Task 5"
   ]
  },
  {
   "cell_type": "code",
   "execution_count": 69,
   "metadata": {},
   "outputs": [
    {
     "name": "stdout",
     "output_type": "stream",
     "text": [
      "1000 3\n"
     ]
    }
   ],
   "source": [
    "def funFact(n):\n",
    "    if n == 0:\n",
    "        return 0\n",
    "    mx = 1\n",
    "    nf = n\n",
    "    for i in range(2, n + 1):\n",
    "        num = 0\n",
    "        while ((nf % i) == 0):\n",
    "            num += 1\n",
    "            nf //= i\n",
    "        mx = max(mx, num)\n",
    "    return mx\n",
    "\n",
    "n = int(input())\n",
    "print(n, funFact(n))"
   ]
  },
  {
   "cell_type": "markdown",
   "metadata": {},
   "source": [
    "## Numpy"
   ]
  },
  {
   "cell_type": "markdown",
   "metadata": {},
   "source": [
    "### Task 1"
   ]
  },
  {
   "cell_type": "code",
   "execution_count": 255,
   "metadata": {},
   "outputs": [
    {
     "name": "stdout",
     "output_type": "stream",
     "text": [
      "72.58186352790405\n"
     ]
    }
   ],
   "source": [
    "import numpy as np\n",
    "from random import *\n",
    "from math import *\n",
    "\n",
    "def ang(a, b):\n",
    "    return acos(np.inner(a, b) / (sqrt(np.inner(a, a) * np.inner(b, b)))) / pi * 180\n",
    "\n",
    "a = list((randrange(-100, 100) for i in range(10)))\n",
    "b = list((randrange(-100, 100) for i in range(10)))\n",
    "print(ang(a, b))"
   ]
  },
  {
   "cell_type": "markdown",
   "metadata": {},
   "source": [
    "### Task 2  "
   ]
  },
  {
   "cell_type": "code",
   "execution_count": 276,
   "metadata": {},
   "outputs": [
    {
     "name": "stdout",
     "output_type": "stream",
     "text": [
      "<class 'tuple'>\n",
      "<class 'tuple'>\n",
      "[[ 0  1]\n",
      " [-1  0]]\n"
     ]
    }
   ],
   "source": [
    "from itertools import permutations\n",
    "\n",
    "def oddeven(a):\n",
    "    cnt = 0\n",
    "    n = len(a)\n",
    "    for i in range(n):\n",
    "        for j in range(i + 1, n):\n",
    "            if (a[i]>a[j]):\n",
    "                cnt += 1\n",
    "    if (cnt % 2) == 0:\n",
    "        return 1\n",
    "    else:\n",
    "        return -1\n",
    "        \n",
    "\n",
    "def levi(n, g = 1):\n",
    "    tup = [n] * n\n",
    "    arr = np.zeros(tuple(tup))\n",
    "    a = np.arange(0, n)\n",
    "    perms = set(permutations(a))\n",
    "    for i in perms:\n",
    "        arr[i] = oddeven(i) * g\n",
    "    \n",
    "    return arr.astype(int)\n",
    "\n",
    "\n",
    "print(levi(2))"
   ]
  },
  {
   "cell_type": "markdown",
   "metadata": {},
   "source": [
    "### Task 3"
   ]
  },
  {
   "cell_type": "code",
   "execution_count": 292,
   "metadata": {},
   "outputs": [
    {
     "name": "stdout",
     "output_type": "stream",
     "text": [
      "-175123170790554.62 -175123170790554\n"
     ]
    }
   ],
   "source": [
    "from itertools import permutations\n",
    "from random import *\n",
    "\n",
    "def oddeven(a):\n",
    "    cnt = 0\n",
    "    n = len(a)\n",
    "    for i in range(n):\n",
    "        for j in range(i + 1, n):\n",
    "            if (a[i]>a[j]):\n",
    "                cnt += 1\n",
    "    if (cnt % 2) == 0:\n",
    "        return 1\n",
    "    else:\n",
    "        return -1\n",
    "        \n",
    "\n",
    "def levi(n, g = 1):\n",
    "    tup = [n] * n\n",
    "    arr = np.zeros(tuple(tup))\n",
    "    a = np.arange(0, n)\n",
    "    perms = set(permutations(a))\n",
    "    for i in perms:\n",
    "        arr[i] = oddeven(i) * g\n",
    "    \n",
    "    return arr.astype(int)\n",
    "\n",
    "storage = list()\n",
    "def rec(n, curr):\n",
    "    if len(curr) == n:\n",
    "        storage.append(curr)\n",
    "        return\n",
    "    for i in range(n):\n",
    "        rec(n, curr + str(i))\n",
    "    return\n",
    "\n",
    "def toIntArr(a):\n",
    "    ans = [0]*len(a)\n",
    "    for i in range(len(a)):\n",
    "        ans[i] = int(a[i])\n",
    "    return tuple(ans)\n",
    "\n",
    "def det(n, matrix):\n",
    "    rec(n, '')\n",
    "    levichevi = levi(n)\n",
    "    ans = 0\n",
    "    for indexes in storage:\n",
    "        mult = levichevi[toIntArr(indexes)]\n",
    "        if (mult == 0):\n",
    "            continue\n",
    "        for i in range(n):\n",
    "            mult *= matrix[i][int(indexes[i])]\n",
    "        ans += mult\n",
    "    return ans\n",
    "\n",
    "n = int(input())\n",
    "a = [[randrange(1, 100) for i in range(n)] for i in range(n)]\n",
    "print(np.linalg.det(a), det(n, a))\n",
    "\n"
   ]
  },
  {
   "cell_type": "markdown",
   "metadata": {},
   "source": [
    "### Task 6"
   ]
  },
  {
   "cell_type": "code",
   "execution_count": null,
   "metadata": {},
   "outputs": [],
   "source": [
    "def solve(a, b):\n",
    "    return np.linalg.solve(a, b)"
   ]
  },
  {
   "cell_type": "markdown",
   "metadata": {},
   "source": [
    "### Task 5 (from task_template.md)"
   ]
  },
  {
   "cell_type": "code",
   "execution_count": 307,
   "metadata": {},
   "outputs": [
    {
     "name": "stdout",
     "output_type": "stream",
     "text": [
      "[[10095 18246 14065  8258  9954]]\n"
     ]
    }
   ],
   "source": [
    "def multiply(a, b):\n",
    "    return a @ b\n",
    "n, m, k = 1, 3, 5\n",
    "a = np.array([[randrange(1, 100) for j in range(m)] for i in range(n)])\n",
    "b = np.array([[randrange(1, 100) for j in range(k)] for i in range(m)])\n",
    "print(multiply(a, b))"
   ]
  },
  {
   "cell_type": "markdown",
   "metadata": {},
   "source": [
    "## Pandas\n"
   ]
  },
  {
   "cell_type": "markdown",
   "metadata": {},
   "source": [
    "### Task 1"
   ]
  },
  {
   "cell_type": "code",
   "execution_count": 317,
   "metadata": {},
   "outputs": [
    {
     "data": {
      "text/html": [
       "<div>\n",
       "<style scoped>\n",
       "    .dataframe tbody tr th:only-of-type {\n",
       "        vertical-align: middle;\n",
       "    }\n",
       "\n",
       "    .dataframe tbody tr th {\n",
       "        vertical-align: top;\n",
       "    }\n",
       "\n",
       "    .dataframe thead th {\n",
       "        text-align: right;\n",
       "    }\n",
       "</style>\n",
       "<table border=\"1\" class=\"dataframe\">\n",
       "  <thead>\n",
       "    <tr style=\"text-align: right;\">\n",
       "      <th></th>\n",
       "      <th>Математика</th>\n",
       "      <th>Физика</th>\n",
       "      <th>Русский язык</th>\n",
       "      <th>count</th>\n",
       "    </tr>\n",
       "  </thead>\n",
       "  <tbody>\n",
       "    <tr>\n",
       "      <th>0</th>\n",
       "      <td>100</td>\n",
       "      <td>100</td>\n",
       "      <td>100</td>\n",
       "      <td>1</td>\n",
       "    </tr>\n",
       "    <tr>\n",
       "      <th>1</th>\n",
       "      <td>100</td>\n",
       "      <td>100</td>\n",
       "      <td>100</td>\n",
       "      <td>1</td>\n",
       "    </tr>\n",
       "    <tr>\n",
       "      <th>2</th>\n",
       "      <td>100</td>\n",
       "      <td>100</td>\n",
       "      <td>100</td>\n",
       "      <td>1</td>\n",
       "    </tr>\n",
       "    <tr>\n",
       "      <th>3</th>\n",
       "      <td>100</td>\n",
       "      <td>100</td>\n",
       "      <td>100</td>\n",
       "      <td>1</td>\n",
       "    </tr>\n",
       "    <tr>\n",
       "      <th>4</th>\n",
       "      <td>99</td>\n",
       "      <td>100</td>\n",
       "      <td>100</td>\n",
       "      <td>1</td>\n",
       "    </tr>\n",
       "    <tr>\n",
       "      <th>...</th>\n",
       "      <td>...</td>\n",
       "      <td>...</td>\n",
       "      <td>...</td>\n",
       "      <td>...</td>\n",
       "    </tr>\n",
       "    <tr>\n",
       "      <th>900</th>\n",
       "      <td>72</td>\n",
       "      <td>64</td>\n",
       "      <td>78</td>\n",
       "      <td>1</td>\n",
       "    </tr>\n",
       "    <tr>\n",
       "      <th>901</th>\n",
       "      <td>78</td>\n",
       "      <td>57</td>\n",
       "      <td>80</td>\n",
       "      <td>1</td>\n",
       "    </tr>\n",
       "    <tr>\n",
       "      <th>902</th>\n",
       "      <td>70</td>\n",
       "      <td>60</td>\n",
       "      <td>80</td>\n",
       "      <td>1</td>\n",
       "    </tr>\n",
       "    <tr>\n",
       "      <th>903</th>\n",
       "      <td>70</td>\n",
       "      <td>57</td>\n",
       "      <td>69</td>\n",
       "      <td>1</td>\n",
       "    </tr>\n",
       "    <tr>\n",
       "      <th>904</th>\n",
       "      <td>62</td>\n",
       "      <td>61</td>\n",
       "      <td>76</td>\n",
       "      <td>1</td>\n",
       "    </tr>\n",
       "  </tbody>\n",
       "</table>\n",
       "<p>905 rows × 4 columns</p>\n",
       "</div>"
      ],
      "text/plain": [
       "     Математика  Физика  Русский язык  count\n",
       "0           100     100           100      1\n",
       "1           100     100           100      1\n",
       "2           100     100           100      1\n",
       "3           100     100           100      1\n",
       "4            99     100           100      1\n",
       "..          ...     ...           ...    ...\n",
       "900          72      64            78      1\n",
       "901          78      57            80      1\n",
       "902          70      60            80      1\n",
       "903          70      57            69      1\n",
       "904          62      61            76      1\n",
       "\n",
       "[905 rows x 4 columns]"
      ]
     },
     "execution_count": 317,
     "metadata": {},
     "output_type": "execute_result"
    }
   ],
   "source": [
    "import pandas as pd\n",
    "df = pd.read_csv('use.csv')\n",
    "df['count'] = 1\n",
    "df"
   ]
  },
  {
   "cell_type": "code",
   "execution_count": 337,
   "metadata": {},
   "outputs": [
    {
     "data": {
      "text/html": [
       "<div>\n",
       "<style scoped>\n",
       "    .dataframe tbody tr th:only-of-type {\n",
       "        vertical-align: middle;\n",
       "    }\n",
       "\n",
       "    .dataframe tbody tr th {\n",
       "        vertical-align: top;\n",
       "    }\n",
       "\n",
       "    .dataframe thead th {\n",
       "        text-align: right;\n",
       "    }\n",
       "</style>\n",
       "<table border=\"1\" class=\"dataframe\">\n",
       "  <thead>\n",
       "    <tr style=\"text-align: right;\">\n",
       "      <th></th>\n",
       "      <th>count</th>\n",
       "    </tr>\n",
       "    <tr>\n",
       "      <th>sum</th>\n",
       "      <th></th>\n",
       "    </tr>\n",
       "  </thead>\n",
       "  <tbody>\n",
       "    <tr>\n",
       "      <th>293</th>\n",
       "      <td>1</td>\n",
       "    </tr>\n",
       "  </tbody>\n",
       "</table>\n",
       "</div>"
      ],
      "text/plain": [
       "     count\n",
       "sum       \n",
       "293      1"
      ]
     },
     "execution_count": 337,
     "metadata": {},
     "output_type": "execute_result"
    }
   ],
   "source": [
    "a = dict()\n",
    "a['number_of_students'] = df['count'].sum()\n",
    "a['mean_math'] = df['Математика'].mean()\n",
    "a['mean_russian_for_physicists'] = df[df['Физика'] == 100]['Русский язык'].mean()\n",
    "agg_math = df.groupby('Математика').agg({'Физика' : 'max', 'Русский язык' : 'min'})\n",
    "a['agg_math'] = agg_math\n",
    "agg_math_count = df.groupby('Математика').agg({'count' : 'sum'})\n",
    "a['agg_math_count'] = agg_math_count\n",
    "number_coincidences = 0\n",
    "for i in range(101):\n",
    "    number_coincidences += len(df[(df['Математика'] == i) & (df['Физика'] == i) & (df['Русский язык'] == i)])\n",
    "a['number_coincidences'] = number_coincidences\n",
    "df['sum'] = df['Математика'] + df['Физика'] + df['Русский язык']\n",
    "a['sum'] = df['sum']\n",
    "df2 = df.groupby('sum').agg({'count':'sum'}).tail(10)\n",
    "a['max_number_coincidence'] = 293"
   ]
  },
  {
   "cell_type": "markdown",
   "metadata": {},
   "source": [
    "### Task 3"
   ]
  },
  {
   "cell_type": "code",
   "execution_count": null,
   "metadata": {},
   "outputs": [],
   "source": [
    "import scipy\n",
    "\n",
    "def blur(arr, n):\n",
    "    w = [1/n] * n\n",
    "    scipy.ndimage.convolve1d(arr, w)\n",
    "    "
   ]
  },
  {
   "cell_type": "markdown",
   "metadata": {},
   "source": [
    "### Task 2\n"
   ]
  },
  {
   "cell_type": "code",
   "execution_count": 353,
   "metadata": {},
   "outputs": [
    {
     "data": {
      "text/html": [
       "<div>\n",
       "<style scoped>\n",
       "    .dataframe tbody tr th:only-of-type {\n",
       "        vertical-align: middle;\n",
       "    }\n",
       "\n",
       "    .dataframe tbody tr th {\n",
       "        vertical-align: top;\n",
       "    }\n",
       "\n",
       "    .dataframe thead th {\n",
       "        text-align: right;\n",
       "    }\n",
       "</style>\n",
       "<table border=\"1\" class=\"dataframe\">\n",
       "  <thead>\n",
       "    <tr style=\"text-align: right;\">\n",
       "      <th></th>\n",
       "      <th>Data</th>\n",
       "      <th>Days_Count</th>\n",
       "    </tr>\n",
       "  </thead>\n",
       "  <tbody>\n",
       "    <tr>\n",
       "      <th>0</th>\n",
       "      <td>1111.11.11</td>\n",
       "      <td>405732 days, 0:00:00</td>\n",
       "    </tr>\n",
       "    <tr>\n",
       "      <th>1</th>\n",
       "      <td>2222.12.22</td>\n",
       "      <td>811558 days, 0:00:00</td>\n",
       "    </tr>\n",
       "  </tbody>\n",
       "</table>\n",
       "</div>"
      ],
      "text/plain": [
       "         Data            Days_Count\n",
       "0  1111.11.11  405732 days, 0:00:00\n",
       "1  2222.12.22  811558 days, 0:00:00"
      ]
     },
     "execution_count": 353,
     "metadata": {},
     "output_type": "execute_result"
    }
   ],
   "source": [
    "import datetime\n",
    "\n",
    "def daycount(string):\n",
    "    a = string.split('.')\n",
    "    return datetime.date(int(a[0]),int(a[1]),int(a[2])) - datetime.date(1, 1, 1)\n",
    "\n",
    "def siiiiii(df):\n",
    "    df['Days_Count'] = list(map(daycount, df['Data']))\n",
    "    return df\n",
    "\n",
    "d = {\"Data\" : ['1111.11.11', '2222.12.22']}\n",
    "d = pd.DataFrame(d)\n",
    "siiiiii(d)\n",
    "    \n"
   ]
  }
 ],
 "metadata": {
  "kernelspec": {
   "display_name": "Python 3.10.4 64-bit",
   "language": "python",
   "name": "python3"
  },
  "language_info": {
   "codemirror_mode": {
    "name": "ipython",
    "version": 3
   },
   "file_extension": ".py",
   "mimetype": "text/x-python",
   "name": "python",
   "nbconvert_exporter": "python",
   "pygments_lexer": "ipython3",
   "version": "3.10.6"
  },
  "orig_nbformat": 4,
  "vscode": {
   "interpreter": {
    "hash": "916dbcbb3f70747c44a77c7bcd40155683ae19c65e1c03b4aa3499c5328201f1"
   }
  }
 },
 "nbformat": 4,
 "nbformat_minor": 2
}
